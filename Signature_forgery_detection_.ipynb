{
  "nbformat": 4,
  "nbformat_minor": 0,
  "metadata": {
    "colab": {
      "provenance": [],
      "mount_file_id": "11hn2KFbWrzBwrsTmYlzfrWBoQWEohGUJ",
      "authorship_tag": "ABX9TyO1Q8LCWfHDGXnk32VfKWys",
      "include_colab_link": true
    },
    "kernelspec": {
      "name": "python3",
      "display_name": "Python 3"
    },
    "language_info": {
      "name": "python"
    }
  },
  "cells": [
    {
      "cell_type": "markdown",
      "metadata": {
        "id": "view-in-github",
        "colab_type": "text"
      },
      "source": [
        "<a href=\"https://colab.research.google.com/github/bhanu1100/Signature-Forgery-Detection-with-Forger-Detection/blob/main/Signature_forgery_detection_.ipynb\" target=\"_parent\"><img src=\"https://colab.research.google.com/assets/colab-badge.svg\" alt=\"Open In Colab\"/></a>"
      ]
    },
    {
      "cell_type": "code",
      "execution_count": null,
      "metadata": {
        "id": "d94TtB24bRju"
      },
      "outputs": [],
      "source": [
        "# Importing required libraries\n",
        "import numpy as np\n",
        "import pandas as pd\n",
        "import tensorflow as tf\n",
        "import matplotlib.pyplot as plt\n",
        "import random\n",
        "from PIL import Image\n",
        "from sklearn.metrics import accuracy_score\n",
        "import seaborn as sns\n",
        "from shutil import copy\n",
        "from tensorflow.keras.preprocessing.image import load_img, img_to_array\n",
        "from sklearn.model_selection import train_test_split\n",
        "from sklearn.utils import shuffle\n",
        "import os"
      ]
    },
    {
      "cell_type": "code",
      "source": [
        "Dataset_path = \"/content/drive/MyDrive/dataset\"\n",
        "image_path = '/content/drive/MyDrive/testdata/dataset/forge/u10_foged (8).jpg'"
      ],
      "metadata": {
        "id": "gm1xd9MQcnRk"
      },
      "execution_count": null,
      "outputs": []
    },
    {
      "cell_type": "code",
      "source": [
        "def loading_data(data_path = Dataset_path, test_size = 0.2, verbose = True, load_grayscale = True):\n",
        "  forged_images_feature = []\n",
        "  real_images_features = []\n",
        "  labels = []\n",
        "  features = []\n",
        "  features_dictionary = {}\n",
        "  mode = 'rgb'\n",
        "  if load_grayscale:\n",
        "    mode = 'grayscale'\n",
        "  for folder in os.listdir(data_path):\n",
        "    if folder == '.DS_Store' or folder == '.ipynb_checkpoints':\n",
        "            continue\n",
        "    print(f\"Searching {folder}\")\n",
        "    #extracting images from forged signatures folder\n",
        "    for sub in os.listdir(data_path + \"/\" + folder + \"/forge\"):\n",
        "      # Going through the forged signatures folder\n",
        "      f = data_path + \"/\" + folder +\"/forge/\" + sub\n",
        "      img = load_img(f,color_mode=mode, target_size=(150,150))\n",
        "      # Collecting features from all images\n",
        "      features.append(img_to_array(img))\n",
        "      features_dictionary[sub] = (img, 0)\n",
        "      forged_images_feature.append(img)\n",
        "      if verbose:\n",
        "        print(f\"Adding {f} with label 0\")\n",
        "      # Assigning 0 to forged signature images\n",
        "      labels.append(0)\n",
        "    for sub in os.listdir(data_path + \"/\" + folder + \"/real\"):\n",
        "      # Going through the real signatures folder\n",
        "      f = data_path + \"/\" + folder + \"/real/\" + sub\n",
        "      img = load_img(f,color_mode=mode, target_size=(150,150))\n",
        "      features.append(img_to_array(img))\n",
        "      features_dictionary[sub] = (img, 0)\n",
        "      real_images_features.append(img)\n",
        "      if verbose:\n",
        "        print(f\"Adding {f} with label 1\")\n",
        "      # Assigning 1 to real signature images\n",
        "      labels.append(1)\n",
        "  features = np.array(features)\n",
        "  # We have two labels 0 and 1\n",
        "  labels = np.array(labels)\n",
        "  # Dividing the generated data into test and train\n",
        "  x_train, x_test, y_train, y_test = train_test_split(features, labels, test_size=test_size, random_state=42)\n",
        "  # Seperating validation from train\n",
        "  x_train, x_val, y_train, y_val = train_test_split(x_train, y_train, test_size=0.25, random_state=42)\n",
        "  print(\"Data generated.\")\n",
        "  return features, labels, forged_images_feature, real_images_features, features_dictionary, x_train, x_test, y_train, y_test, x_val, y_val\n",
        "features, labels,forged_images_feature, real_images_features, features_dictionary, x_train, x_test, y_train, y_test, x_val, y_val = loading_data(verbose=False, load_grayscale=False)\n"
      ],
      "metadata": {
        "colab": {
          "base_uri": "https://localhost:8080/"
        },
        "id": "t8FBqR7Qc1ot",
        "outputId": "1b28b370-bffb-465b-d229-533997a9f5ca"
      },
      "execution_count": null,
      "outputs": [
        {
          "output_type": "stream",
          "name": "stdout",
          "text": [
            "Searching dataset\n",
            "Data generated.\n"
          ]
        }
      ]
    },
    {
      "cell_type": "code",
      "source": [
        "# Normallizing the data by dividing with 255(the max value it can have)\n",
        "x_train /= 255.\n",
        "x_val /= 255.\n",
        "x_test /= 255."
      ],
      "metadata": {
        "id": "bLKkvmFEl4Ft"
      },
      "execution_count": null,
      "outputs": []
    },
    {
      "cell_type": "code",
      "source": [
        "# Building a CNN model\n",
        "model = tf.keras.Sequential()\n",
        "model.add(tf.keras.layers.Conv2D(64, (3,3), input_shape=(150,150,3), activation='relu'))\n",
        "model.add(tf.keras.layers.MaxPool2D(2))\n",
        "model.add(tf.keras.layers.Conv2D(32, (3,3), activation='relu'))\n",
        "model.add(tf.keras.layers.MaxPool2D(2))\n",
        "model.add(tf.keras.layers.Conv2D(16, (3,3), activation='relu'))\n",
        "model.add(tf.keras.layers.MaxPool2D(2))\n",
        "model.add(tf.keras.layers.Conv2D(16, (3,3), activation='relu'))\n",
        "model.add(tf.keras.layers.Flatten())\n",
        "model.add(tf.keras.layers.Dense(512, activation='relu'))\n",
        "model.add(tf.keras.layers.Dense(1, activation='sigmoid'))\n",
        "model.compile(optimizer='adam', loss=tf.keras.losses.binary_crossentropy, metrics=['acc'])\n",
        "model.summary()"
      ],
      "metadata": {
        "colab": {
          "base_uri": "https://localhost:8080/"
        },
        "id": "4SHbskOfmSkH",
        "outputId": "0e0435d3-8b91-42e5-b9c5-c5bda29aee82"
      },
      "execution_count": null,
      "outputs": [
        {
          "output_type": "stream",
          "name": "stdout",
          "text": [
            "Model: \"sequential\"\n",
            "_________________________________________________________________\n",
            " Layer (type)                Output Shape              Param #   \n",
            "=================================================================\n",
            " conv2d (Conv2D)             (None, 148, 148, 64)      1792      \n",
            "                                                                 \n",
            " max_pooling2d (MaxPooling2  (None, 74, 74, 64)        0         \n",
            " D)                                                              \n",
            "                                                                 \n",
            " conv2d_1 (Conv2D)           (None, 72, 72, 32)        18464     \n",
            "                                                                 \n",
            " max_pooling2d_1 (MaxPoolin  (None, 36, 36, 32)        0         \n",
            " g2D)                                                            \n",
            "                                                                 \n",
            " conv2d_2 (Conv2D)           (None, 34, 34, 16)        4624      \n",
            "                                                                 \n",
            " max_pooling2d_2 (MaxPoolin  (None, 17, 17, 16)        0         \n",
            " g2D)                                                            \n",
            "                                                                 \n",
            " conv2d_3 (Conv2D)           (None, 15, 15, 16)        2320      \n",
            "                                                                 \n",
            " flatten (Flatten)           (None, 3600)              0         \n",
            "                                                                 \n",
            " dense (Dense)               (None, 512)               1843712   \n",
            "                                                                 \n",
            " dense_1 (Dense)             (None, 1)                 513       \n",
            "                                                                 \n",
            "=================================================================\n",
            "Total params: 1871425 (7.14 MB)\n",
            "Trainable params: 1871425 (7.14 MB)\n",
            "Non-trainable params: 0 (0.00 Byte)\n",
            "_________________________________________________________________\n"
          ]
        }
      ]
    },
    {
      "cell_type": "code",
      "source": [
        "history = model.fit(x_train, y_train, epochs=5, validation_data=(x_val, y_val))"
      ],
      "metadata": {
        "colab": {
          "base_uri": "https://localhost:8080/"
        },
        "id": "6E1Uv-2RmSc7",
        "outputId": "9db39010-59a3-4fb4-9023-e534c8935606"
      },
      "execution_count": null,
      "outputs": [
        {
          "output_type": "stream",
          "name": "stdout",
          "text": [
            "Epoch 1/5\n",
            "4/4 [==============================] - 9s 2s/step - loss: 0.8512 - acc: 0.5439 - val_loss: 0.7465 - val_acc: 0.3684\n",
            "Epoch 2/5\n",
            "4/4 [==============================] - 5s 1s/step - loss: 0.6945 - acc: 0.5263 - val_loss: 0.7025 - val_acc: 0.3947\n",
            "Epoch 3/5\n",
            "4/4 [==============================] - 6s 2s/step - loss: 0.6877 - acc: 0.5175 - val_loss: 0.6673 - val_acc: 0.6316\n",
            "Epoch 4/5\n",
            "4/4 [==============================] - 6s 1s/step - loss: 0.6838 - acc: 0.5088 - val_loss: 0.7149 - val_acc: 0.3684\n",
            "Epoch 5/5\n",
            "4/4 [==============================] - 9s 2s/step - loss: 0.6637 - acc: 0.6316 - val_loss: 0.6962 - val_acc: 0.5263\n"
          ]
        }
      ]
    },
    {
      "cell_type": "markdown",
      "source": [
        "Since we were not able to achieve good accuracy with CNN alone we use the technique of TRANSFER LAYERS."
      ],
      "metadata": {
        "id": "y7h1aBoC4Gv8"
      }
    },
    {
      "cell_type": "code",
      "source": [
        "# loading Inception\n",
        "model2 = tf.keras.applications.InceptionV3(include_top=False, input_shape=(150,150,3))\n",
        "# freezing layers\n",
        "for layer in model2.layers:\n",
        "    layer.trainable=False\n",
        "# getting mixed7 layer\n",
        "l = model2.get_layer(\"mixed7\")"
      ],
      "metadata": {
        "colab": {
          "base_uri": "https://localhost:8080/"
        },
        "id": "lMjbbjtAmZHD",
        "outputId": "f0edb95e-6952-45ba-9e74-b8e88220c04b"
      },
      "execution_count": null,
      "outputs": [
        {
          "output_type": "stream",
          "name": "stdout",
          "text": [
            "Downloading data from https://storage.googleapis.com/tensorflow/keras-applications/inception_v3/inception_v3_weights_tf_dim_ordering_tf_kernels_notop.h5\n",
            "87910968/87910968 [==============================] - 0s 0us/step\n"
          ]
        }
      ]
    },
    {
      "cell_type": "code",
      "source": [
        "# Second model\n",
        "x = tf.keras.layers.Flatten()(l.output)\n",
        "x = tf.keras.layers.Dense(1024, activation='relu')(x)\n",
        "x = tf.keras.layers.Dropout(.5)(x)\n",
        "x = tf.keras.layers.Dense(1, activation='sigmoid')(x)\n",
        "net = tf.keras.Model(model2.input, x)\n",
        "net.compile(optimizer='adam', loss=tf.keras.losses.binary_crossentropy, metrics=['acc'])\n",
        "h2 = net.fit(x_train, y_train, validation_data=(x_val, y_val), epochs=5)"
      ],
      "metadata": {
        "colab": {
          "base_uri": "https://localhost:8080/"
        },
        "id": "guLKqrv1miJZ",
        "outputId": "59b1a243-1a76-49b8-9095-3059a6b7686d"
      },
      "execution_count": null,
      "outputs": [
        {
          "output_type": "stream",
          "name": "stdout",
          "text": [
            "Epoch 1/5\n",
            "4/4 [==============================] - 15s 3s/step - loss: 8.1016 - acc: 0.3596 - val_loss: 2.1666 - val_acc: 0.6316\n",
            "Epoch 2/5\n",
            "4/4 [==============================] - 13s 3s/step - loss: 2.9409 - acc: 0.6667 - val_loss: 3.9975 - val_acc: 0.4474\n",
            "Epoch 3/5\n",
            "4/4 [==============================] - 13s 4s/step - loss: 0.7951 - acc: 0.7807 - val_loss: 1.6752 - val_acc: 0.6842\n",
            "Epoch 4/5\n",
            "4/4 [==============================] - 11s 3s/step - loss: 0.6305 - acc: 0.8333 - val_loss: 2.3117 - val_acc: 0.4474\n",
            "Epoch 5/5\n",
            "4/4 [==============================] - 10s 2s/step - loss: 0.4588 - acc: 0.8596 - val_loss: 0.8214 - val_acc: 0.7632\n"
          ]
        }
      ]
    },
    {
      "cell_type": "code",
      "source": [
        "# Testing our model\n",
        "preds = net.predict(x_test)\n",
        "pred_labels = []\n",
        "# Threshold is 0.5\n",
        "for p in preds:\n",
        "    if p >= 0.5:\n",
        "        pred_labels.append(1)\n",
        "    else:\n",
        "        pred_labels.append(0)\n",
        "pred_labels = np.array(pred_labels)\n",
        "print (\"Accuracy on test set: {}\".format(accuracy_score(y_test, pred_labels)))"
      ],
      "metadata": {
        "colab": {
          "base_uri": "https://localhost:8080/"
        },
        "id": "7eDvokrJmlH-",
        "outputId": "257ec4f5-4adf-4a2d-d163-b34191a03cd6"
      },
      "execution_count": null,
      "outputs": [
        {
          "output_type": "stream",
          "name": "stdout",
          "text": [
            "2/2 [==============================] - 3s 399ms/step\n",
            "Accuracy on test set: 0.7894736842105263\n"
          ]
        }
      ]
    },
    {
      "cell_type": "code",
      "source": [
        "# In this function we are converting previously assigned labels to Names\n",
        "def convert_label_to_text(label=0):\n",
        "\n",
        "    return \"Forged\" if label == 0 else \"Real\"\n",
        "# Preprocessing of the image to test\n",
        "def load_and_preprocess_image(image_path, target_size=(150, 150), load_grayscale=False):\n",
        "    mode = \"rgb\"\n",
        "    if load_grayscale:\n",
        "        mode = \"grayscale\"\n",
        "    img = load_img(image_path, color_mode=mode, target_size=target_size)\n",
        "    img_array = img_to_array(img)\n",
        "    img_array = np.expand_dims(img_array, axis=0)\n",
        "    img_array /= 255.0\n",
        "    return img_array\n",
        "# Predicting using the model\n",
        "def classify_image_with_models(image_path, model, net):\n",
        "    input_image = load_and_preprocess_image(image_path)\n",
        "\n",
        "    prediction_model = model.predict(input_image)\n",
        "    label_model = convert_label_to_text(np.round(prediction_model)[0][0])\n",
        "\n",
        "    prediction_net = net.predict(input_image)\n",
        "    label_net = convert_label_to_text(np.round(prediction_net)[0][0])\n",
        "\n",
        "    return label_model, prediction_model, label_net, prediction_net\n",
        "\n",
        "label_model, prediction_model, label_net, prediction_net = classify_image_with_models(image_path, model, net)\n",
        "\n",
        "print(f\"Prediction: {label_net}\")"
      ],
      "metadata": {
        "colab": {
          "base_uri": "https://localhost:8080/"
        },
        "id": "d9K6yKdemtp3",
        "outputId": "75c93ae8-45e8-4bc8-d5c7-1e97bdc6118d"
      },
      "execution_count": null,
      "outputs": [
        {
          "output_type": "stream",
          "name": "stdout",
          "text": [
            "1/1 [==============================] - 0s 29ms/step\n",
            "1/1 [==============================] - 0s 81ms/step\n",
            "Prediction: Forged\n"
          ]
        }
      ]
    },
    {
      "cell_type": "markdown",
      "source": [
        "##Who might have forged the signature?\n",
        "\n",
        "Here we will try to predict who might have forged a signature if forged."
      ],
      "metadata": {
        "id": "fXt44JDb5Uyz"
      }
    },
    {
      "cell_type": "code",
      "source": [
        "# Importing required libraries\n",
        "import numpy as np\n",
        "from tensorflow.keras.models import Sequential\n",
        "from tensorflow.keras.layers import LSTM, Dense, Embedding, Flatten\n",
        "from tensorflow.keras.utils import to_categorical\n",
        "from sklearn.model_selection import train_test_split\n",
        "from sklearn.metrics import accuracy_score\n",
        "from tensorflow.keras.preprocessing.image import load_img, img_to_array\n",
        "import os\n",
        "from tensorflow.keras.optimizers import Adam\n",
        "from tensorflow.keras.layers import Dropout\n",
        "from tensorflow.keras.layers import BatchNormalization\n",
        "from tensorflow.keras.preprocessing.image import ImageDataGenerator\n",
        "from tensorflow.keras import layers, models"
      ],
      "metadata": {
        "id": "9zd3CAZZoA-i"
      },
      "execution_count": null,
      "outputs": []
    },
    {
      "cell_type": "code",
      "source": [
        "# Path to the dataset\n",
        "# Here we are using same images but with differrent arrangement of classes\n",
        "# Since we have 10 users we get 10 classes\n",
        "New_Dataset_path = '/content/drive/MyDrive/user_dataset'"
      ],
      "metadata": {
        "id": "EkJ9Ogij5vpM"
      },
      "execution_count": null,
      "outputs": []
    },
    {
      "cell_type": "code",
      "source": [
        "# Extracting of images from different classes\n",
        "# Preprocessing the images\n",
        "def load_data(Data_path=New_Dataset_path, test_size=0.2, verbose=True, load_grayscale=True):\n",
        "\n",
        "    features = []\n",
        "    features_dict = {}\n",
        "    labels = []  # Labels from 0 to 9 for 10 classes\n",
        "    mode = \"rgb\"\n",
        "    if load_grayscale:\n",
        "        mode = \"grayscale\"\n",
        "\n",
        "    for folder in os.listdir(Data_path):\n",
        "        if folder == '.DS_Store' or folder == '.ipynb_checkpoints':\n",
        "            continue\n",
        "\n",
        "        print(\"Searching folder {}\".format(folder))\n",
        "        class_label = int(folder.split('_')[-1]) - 1\n",
        "        for sub in os.listdir(os.path.join(Data_path, folder)):\n",
        "            f = os.path.join(Data_path, folder, sub)\n",
        "            img = load_img(f, color_mode=mode, target_size=(150, 150))\n",
        "            features.append(img_to_array(img))\n",
        "            features_dict[sub] = (img, class_label)\n",
        "            if verbose:\n",
        "                print(\"Adding {} with label {}\".format(f, class_label))\n",
        "            labels.append(class_label)\n",
        "\n",
        "    features = np.array(features)\n",
        "    labels = np.array(labels)\n",
        "\n",
        "    x_train, x_test, y_train, y_test = train_test_split(features, labels, test_size=test_size, random_state=42)\n",
        "    x_train, x_val, y_train, y_val = train_test_split(x_train, y_train, test_size=0.25, random_state=42)\n",
        "\n",
        "    print(\"Generated data.\")\n",
        "    return features, labels, x_train, x_test, y_train, y_test, x_val, y_val\n",
        "\n",
        "\n",
        "def convert_label_to_text(label=0):\n",
        "    class_names = ['user_0', 'user_1','user_2','user_3', 'user_4','user_5', 'user_6','user_7', 'user_8','user_9'  ]\n",
        "    return class_names[label]\n",
        "\n",
        "# Load data for 10 classes\n",
        "features, labels, x_train, x_test, y_train, y_test, x_val, y_val = load_data(verbose=False, load_grayscale=False)\n",
        "\n",
        "# Normalize inputs\n",
        "x_train /= 255.\n",
        "x_val /= 255.\n",
        "x_test /= 255.\n"
      ],
      "metadata": {
        "colab": {
          "base_uri": "https://localhost:8080/"
        },
        "id": "JKB10denm3-u",
        "outputId": "fcf61f7e-b5d1-4501-ed8d-38c47696d6f1"
      },
      "execution_count": null,
      "outputs": [
        {
          "output_type": "stream",
          "name": "stdout",
          "text": [
            "Searching folder user_0\n",
            "Searching folder user_1\n",
            "Searching folder user_2\n",
            "Searching folder user_3\n",
            "Searching folder user_4\n",
            "Searching folder user_5\n",
            "Searching folder user_6\n",
            "Searching folder user_7\n",
            "Searching folder user_8\n",
            "Searching folder user_9\n",
            "Generated data.\n"
          ]
        }
      ]
    },
    {
      "cell_type": "code",
      "source": [
        "image_size = (150, 150)\n",
        "batch_size = 32\n",
        "\n",
        "# Data preprocessing and augmentation\n",
        "train_datagen = ImageDataGenerator(\n",
        "    rescale=1./255,\n",
        "    shear_range=0.2,\n",
        "    zoom_range=0.2,\n",
        "    horizontal_flip=True,\n",
        "    validation_split=0.2\n",
        ")\n",
        "\n",
        "train_generator = train_datagen.flow_from_directory(\n",
        "    New_Dataset_path,\n",
        "    target_size=image_size,\n",
        "    batch_size=batch_size,\n",
        "    class_mode='categorical',\n",
        "    subset='training'\n",
        ")\n",
        "\n",
        "validation_generator = train_datagen.flow_from_directory(\n",
        "    New_Dataset_path,\n",
        "    target_size=image_size,\n",
        "    batch_size=batch_size,\n",
        "    class_mode='categorical',\n",
        "    subset='validation'\n",
        ")"
      ],
      "metadata": {
        "colab": {
          "base_uri": "https://localhost:8080/"
        },
        "id": "90PSeNF8tYga",
        "outputId": "f7d9bd13-99e9-40e3-923c-a95039166088"
      },
      "execution_count": null,
      "outputs": [
        {
          "output_type": "stream",
          "name": "stdout",
          "text": [
            "Found 80 images belonging to 10 classes.\n",
            "Found 10 images belonging to 10 classes.\n"
          ]
        }
      ]
    },
    {
      "cell_type": "code",
      "source": [
        "# Model building\n",
        "model = models.Sequential([\n",
        "    layers.Conv2D(32, (3, 3), activation='relu', input_shape=(image_size[0], image_size[1], 3)),\n",
        "    layers.MaxPooling2D((2, 2)),\n",
        "    layers.Conv2D(64, (3, 3), activation='relu'),\n",
        "    layers.MaxPooling2D((2, 2)),\n",
        "    layers.Conv2D(128, (3, 3), activation='relu'),\n",
        "    layers.MaxPooling2D((2, 2)),\n",
        "    layers.Flatten(),\n",
        "    layers.Dense(128, activation='relu'),\n",
        "    layers.Dense(10, activation='softmax')\n",
        "])"
      ],
      "metadata": {
        "id": "DQ5YlKcYtlt1"
      },
      "execution_count": null,
      "outputs": []
    },
    {
      "cell_type": "code",
      "source": [
        "model.compile(optimizer='adam', loss='categorical_crossentropy', metrics=['accuracy'])"
      ],
      "metadata": {
        "id": "g-OXkib_toDa"
      },
      "execution_count": null,
      "outputs": []
    },
    {
      "cell_type": "code",
      "source": [
        "# Training the model\n",
        "history = model.fit(train_generator, epochs=30,validation_data=validation_generator)"
      ],
      "metadata": {
        "colab": {
          "base_uri": "https://localhost:8080/"
        },
        "id": "eIz26TpQtuQM",
        "outputId": "1ee048b8-a928-428b-e9e2-f35fa138b825"
      },
      "execution_count": null,
      "outputs": [
        {
          "output_type": "stream",
          "name": "stdout",
          "text": [
            "Epoch 1/30\n",
            "3/3 [==============================] - 6s 2s/step - loss: 2.8331 - accuracy: 0.1125 - val_loss: 2.3175 - val_accuracy: 0.2000\n",
            "Epoch 2/30\n",
            "3/3 [==============================] - 5s 1s/step - loss: 2.3103 - accuracy: 0.1750 - val_loss: 2.2887 - val_accuracy: 0.1000\n",
            "Epoch 3/30\n",
            "3/3 [==============================] - 5s 1s/step - loss: 2.3069 - accuracy: 0.1000 - val_loss: 2.2732 - val_accuracy: 0.1000\n",
            "Epoch 4/30\n",
            "3/3 [==============================] - 4s 1s/step - loss: 2.2758 - accuracy: 0.0500 - val_loss: 2.2558 - val_accuracy: 0.1000\n",
            "Epoch 5/30\n",
            "3/3 [==============================] - 6s 1s/step - loss: 2.2460 - accuracy: 0.1000 - val_loss: 2.2135 - val_accuracy: 0.1000\n",
            "Epoch 6/30\n",
            "3/3 [==============================] - 4s 1s/step - loss: 2.1953 - accuracy: 0.1000 - val_loss: 2.1330 - val_accuracy: 0.1000\n",
            "Epoch 7/30\n",
            "3/3 [==============================] - 4s 1s/step - loss: 2.0999 - accuracy: 0.1125 - val_loss: 2.0492 - val_accuracy: 0.1000\n",
            "Epoch 8/30\n",
            "3/3 [==============================] - 4s 1s/step - loss: 2.0125 - accuracy: 0.1500 - val_loss: 1.9741 - val_accuracy: 0.2000\n",
            "Epoch 9/30\n",
            "3/3 [==============================] - 5s 2s/step - loss: 1.9010 - accuracy: 0.2625 - val_loss: 1.8921 - val_accuracy: 0.4000\n",
            "Epoch 10/30\n",
            "3/3 [==============================] - 5s 1s/step - loss: 1.8759 - accuracy: 0.2750 - val_loss: 1.9022 - val_accuracy: 0.4000\n",
            "Epoch 11/30\n",
            "3/3 [==============================] - 4s 1s/step - loss: 1.7838 - accuracy: 0.3750 - val_loss: 1.6997 - val_accuracy: 0.2000\n",
            "Epoch 12/30\n",
            "3/3 [==============================] - 7s 2s/step - loss: 1.6656 - accuracy: 0.3750 - val_loss: 1.6183 - val_accuracy: 0.3000\n",
            "Epoch 13/30\n",
            "3/3 [==============================] - 6s 2s/step - loss: 1.5145 - accuracy: 0.4125 - val_loss: 1.5241 - val_accuracy: 0.3000\n",
            "Epoch 14/30\n",
            "3/3 [==============================] - 4s 1s/step - loss: 1.3646 - accuracy: 0.5500 - val_loss: 1.4131 - val_accuracy: 0.4000\n",
            "Epoch 15/30\n",
            "3/3 [==============================] - 9s 4s/step - loss: 1.7690 - accuracy: 0.4250 - val_loss: 2.2740 - val_accuracy: 0.3000\n",
            "Epoch 16/30\n",
            "3/3 [==============================] - 5s 1s/step - loss: 2.0432 - accuracy: 0.2625 - val_loss: 1.8215 - val_accuracy: 0.2000\n",
            "Epoch 17/30\n",
            "3/3 [==============================] - 5s 1s/step - loss: 1.4445 - accuracy: 0.4625 - val_loss: 2.0090 - val_accuracy: 0.3000\n",
            "Epoch 18/30\n",
            "3/3 [==============================] - 6s 1s/step - loss: 1.3670 - accuracy: 0.5000 - val_loss: 1.5834 - val_accuracy: 0.4000\n",
            "Epoch 19/30\n",
            "3/3 [==============================] - 6s 2s/step - loss: 1.2556 - accuracy: 0.5250 - val_loss: 1.7645 - val_accuracy: 0.4000\n",
            "Epoch 20/30\n",
            "3/3 [==============================] - 6s 1s/step - loss: 1.2993 - accuracy: 0.5375 - val_loss: 1.5483 - val_accuracy: 0.6000\n",
            "Epoch 21/30\n",
            "3/3 [==============================] - 6s 2s/step - loss: 1.0667 - accuracy: 0.6625 - val_loss: 1.2320 - val_accuracy: 0.6000\n",
            "Epoch 22/30\n",
            "3/3 [==============================] - 4s 1s/step - loss: 0.8906 - accuracy: 0.6875 - val_loss: 1.6113 - val_accuracy: 0.3000\n",
            "Epoch 23/30\n",
            "3/3 [==============================] - 5s 2s/step - loss: 0.8821 - accuracy: 0.7250 - val_loss: 1.3712 - val_accuracy: 0.6000\n",
            "Epoch 24/30\n",
            "3/3 [==============================] - 4s 1s/step - loss: 0.7174 - accuracy: 0.8125 - val_loss: 1.1017 - val_accuracy: 0.6000\n",
            "Epoch 25/30\n",
            "3/3 [==============================] - 5s 2s/step - loss: 0.6736 - accuracy: 0.7500 - val_loss: 1.0834 - val_accuracy: 0.8000\n",
            "Epoch 26/30\n",
            "3/3 [==============================] - 5s 1s/step - loss: 0.5661 - accuracy: 0.8500 - val_loss: 1.1473 - val_accuracy: 0.6000\n",
            "Epoch 27/30\n",
            "3/3 [==============================] - 4s 1s/step - loss: 0.4407 - accuracy: 0.8875 - val_loss: 1.1317 - val_accuracy: 0.7000\n",
            "Epoch 28/30\n",
            "3/3 [==============================] - 4s 1s/step - loss: 0.4936 - accuracy: 0.8625 - val_loss: 1.4257 - val_accuracy: 0.6000\n",
            "Epoch 29/30\n",
            "3/3 [==============================] - 4s 2s/step - loss: 0.5580 - accuracy: 0.8250 - val_loss: 0.6318 - val_accuracy: 0.8000\n",
            "Epoch 30/30\n",
            "3/3 [==============================] - 5s 1s/step - loss: 0.6679 - accuracy: 0.6750 - val_loss: 1.5175 - val_accuracy: 0.6000\n"
          ]
        }
      ]
    },
    {
      "cell_type": "code",
      "source": [
        "# Evaluate the model\n",
        "test_loss, test_acc = model.evaluate(validation_generator)\n",
        "print(f'Test accuracy: {test_acc}')"
      ],
      "metadata": {
        "colab": {
          "base_uri": "https://localhost:8080/"
        },
        "id": "XmqIvi3Wt3I6",
        "outputId": "4c265a8c-a79d-44e2-9a81-b8f3da2f363c"
      },
      "execution_count": null,
      "outputs": [
        {
          "output_type": "stream",
          "name": "stdout",
          "text": [
            "1/1 [==============================] - 0s 224ms/step - loss: 1.6568 - accuracy: 0.6000\n",
            "Test accuracy: 0.6000000238418579\n"
          ]
        }
      ]
    },
    {
      "cell_type": "code",
      "source": [
        "# Save the model\n",
        "model.save('image_classification_CNN_model.h5')"
      ],
      "metadata": {
        "colab": {
          "base_uri": "https://localhost:8080/"
        },
        "id": "wNBUpv0VpgIj",
        "outputId": "3fe46067-a63e-4903-92b0-8f41696aff2c"
      },
      "execution_count": null,
      "outputs": [
        {
          "output_type": "stream",
          "name": "stderr",
          "text": [
            "/usr/local/lib/python3.10/dist-packages/keras/src/engine/training.py:3103: UserWarning: You are saving your model as an HDF5 file via `model.save()`. This file format is considered legacy. We recommend using instead the native Keras format, e.g. `model.save('my_model.keras')`.\n",
            "  saving_api.save_model(\n"
          ]
        }
      ]
    },
    {
      "cell_type": "code",
      "source": [
        "#plotting the graph\n",
        "plt.plot(history.history['accuracy'], label='Training Accuracy')\n",
        "plt.plot(history.history['val_accuracy'], label='Validation Accuracy')\n",
        "plt.xlabel('Epoch')\n",
        "plt.ylabel('Accuracy')\n",
        "plt.legend()\n",
        "plt.show()"
      ],
      "metadata": {
        "colab": {
          "base_uri": "https://localhost:8080/",
          "height": 449
        },
        "id": "5bQtjimquD0_",
        "outputId": "b5710785-8c60-47c3-c95f-0fd76f020712"
      },
      "execution_count": null,
      "outputs": [
        {
          "output_type": "display_data",
          "data": {
            "text/plain": [
              "<Figure size 640x480 with 1 Axes>"
            ],
            "image/png": "[encoded data removed]"
          },
          "metadata": {}
        }
      ]
    },
    {
      "cell_type": "markdown",
      "source": [
        "##Additional model to improve accuracy"
      ],
      "metadata": {
        "id": "H_wAiaP98i73"
      }
    },
    {
      "cell_type": "markdown",
      "source": [
        "We can stop with the CNN model but since the accuracy is not high I've used the TRANSFER LAYERS technique here.\n",
        "\n",
        "Which indeed gave better results."
      ],
      "metadata": {
        "id": "XidXxNlg7YDf"
      }
    },
    {
      "cell_type": "code",
      "source": [
        "# loading Inception'\n",
        "import tensorflow as tf\n",
        "model2 = tf.keras.applications.InceptionV3(include_top=False, input_shape=(150,150,3))\n",
        "# freezing layers\n",
        "for layer in model2.layers:\n",
        "    layer.trainable=False\n",
        "# getting mixed7 layer\n",
        "l = model2.get_layer(\"mixed7\")\n",
        "print (\"mixed7 shape: {}\".format(l.output_shape))"
      ],
      "metadata": {
        "colab": {
          "base_uri": "https://localhost:8080/"
        },
        "id": "J9ki_R1QuF-n",
        "outputId": "9f2d8e2c-9959-4bf4-bc26-944f159bacff"
      },
      "execution_count": null,
      "outputs": [
        {
          "output_type": "stream",
          "name": "stdout",
          "text": [
            "mixed7 shape: (None, 7, 7, 768)\n"
          ]
        }
      ]
    },
    {
      "cell_type": "code",
      "source": [
        "# Second model\n",
        "x = tf.keras.layers.Flatten()(l.output)\n",
        "x = tf.keras.layers.Dense(1024, activation='relu')(x)\n",
        "x = tf.keras.layers.Dropout(.5)(x)\n",
        "x = tf.keras.layers.Dense(1, activation='sigmoid')(x)\n",
        "net = tf.keras.Model(model2.input, x)\n",
        "net.compile(optimizer='adam', loss=tf.keras.losses.binary_crossentropy, metrics=['acc'])\n",
        "h2 = net.fit(train_generator, validation_data=(validation_generator), epochs=15)"
      ],
      "metadata": {
        "colab": {
          "base_uri": "https://localhost:8080/"
        },
        "id": "u3xlTwqLuLaC",
        "outputId": "43ebc6dc-915b-44a9-8e18-57c416538f3f"
      },
      "execution_count": null,
      "outputs": [
        {
          "output_type": "stream",
          "name": "stdout",
          "text": [
            "Epoch 1/15\n",
            "3/3 [==============================] - 17s 4s/step - loss: 3.2606 - acc: 0.8400 - val_loss: 4.2198 - val_acc: 0.9000\n",
            "Epoch 2/15\n",
            "3/3 [==============================] - 7s 3s/step - loss: 2.4509 - acc: 0.9000 - val_loss: 1.9160 - val_acc: 0.2600\n",
            "Epoch 3/15\n",
            "3/3 [==============================] - 6s 2s/step - loss: 1.4211 - acc: 0.6200 - val_loss: 1.3931 - val_acc: 0.9000\n",
            "Epoch 4/15\n",
            "3/3 [==============================] - 7s 2s/step - loss: 1.4799 - acc: 0.9000 - val_loss: 1.0048 - val_acc: 0.9000\n",
            "Epoch 5/15\n",
            "3/3 [==============================] - 6s 2s/step - loss: 1.0776 - acc: 0.8300 - val_loss: 1.0108 - val_acc: 0.6600\n",
            "Epoch 6/15\n",
            "3/3 [==============================] - 11s 4s/step - loss: 1.2007 - acc: 0.7400 - val_loss: 1.3528 - val_acc: 0.9000\n",
            "Epoch 7/15\n",
            "3/3 [==============================] - 7s 3s/step - loss: 1.4753 - acc: 0.9000 - val_loss: 1.3259 - val_acc: 0.9000\n",
            "Epoch 8/15\n",
            "3/3 [==============================] - 7s 2s/step - loss: 1.1317 - acc: 0.9000 - val_loss: 0.6850 - val_acc: 0.8200\n",
            "Epoch 9/15\n",
            "3/3 [==============================] - 8s 2s/step - loss: 1.0004 - acc: 0.7100 - val_loss: 0.6944 - val_acc: 0.8200\n",
            "Epoch 10/15\n",
            "3/3 [==============================] - 8s 3s/step - loss: 0.8488 - acc: 0.8200 - val_loss: 0.9626 - val_acc: 0.9000\n",
            "Epoch 11/15\n",
            "3/3 [==============================] - 8s 2s/step - loss: 1.0660 - acc: 0.9000 - val_loss: 0.9272 - val_acc: 0.9000\n",
            "Epoch 12/15\n",
            "3/3 [==============================] - 7s 2s/step - loss: 0.7975 - acc: 0.8800 - val_loss: 0.4736 - val_acc: 0.8200\n",
            "Epoch 13/15\n",
            "3/3 [==============================] - 7s 3s/step - loss: 0.8812 - acc: 0.7100 - val_loss: 0.6537 - val_acc: 0.8200\n",
            "Epoch 14/15\n",
            "3/3 [==============================] - 6s 2s/step - loss: 0.7153 - acc: 0.8700 - val_loss: 0.6899 - val_acc: 0.9000\n",
            "Epoch 15/15\n",
            "3/3 [==============================] - 6s 2s/step - loss: 0.6798 - acc: 0.8800 - val_loss: 0.5330 - val_acc: 0.9000\n"
          ]
        }
      ]
    },
    {
      "cell_type": "code",
      "source": [
        "# Plotting the graph\n",
        "plt.plot(h2.history['acc'], label='Training Accuracy')\n",
        "plt.plot(h2.history['val_acc'], label='Validation Accuracy')\n",
        "plt.xlabel('Epoch')\n",
        "plt.ylabel('Accuracy')\n",
        "plt.legend()\n",
        "plt.show()"
      ],
      "metadata": {
        "colab": {
          "base_uri": "https://localhost:8080/",
          "height": 449
        },
        "id": "3ly2-nEmuOES",
        "outputId": "c2e11c05-779f-4e4d-df68-1d5ea1d1f274"
      },
      "execution_count": null,
      "outputs": [
        {
          "output_type": "display_data",
          "data": {
            "text/plain": [
              "<Figure size 640x480 with 1 Axes>"
            ],
            "image/png": "[encoded data removed]"
          },
          "metadata": {}
        }
      ]
    },
    {
      "cell_type": "code",
      "source": [
        "# Here we are checking the prediction of the user who might have forged using the CNN model itself\n",
        "\n",
        "from tensorflow.keras.preprocessing import image\n",
        "from tensorflow.keras.models import load_model\n",
        "if label_net=='Forged':\n",
        "  # Load the trained model\n",
        "  model = load_model('image_classification_CNN_model.h5')\n",
        "\n",
        "  # Function to predict the class of an image\n",
        "  def predict_class(image_path):\n",
        "      img = image.load_img(image_path, target_size=(150, 150))\n",
        "      img_array = image.img_to_array(img)\n",
        "      img_array = np.expand_dims(img_array, axis=0)\n",
        "      img_array /= 255.0\n",
        "\n",
        "      prediction = model.predict(img_array)\n",
        "      predicted_class_index = np.argmax(prediction)\n",
        "\n",
        "      class_labels = ['u1 forged sign', 'u2 forged sign',\n",
        "                      'u3 forged sign', 'u4 forged sign','u5 forged sign',\n",
        "                      'u6 forged sign', 'u7 forged sign', 'u8 forged sign',\n",
        "                      'u9 forged sign', 'u10 forged sign']\n",
        "      predicted_class = class_labels[predicted_class_index]\n",
        "      return predicted_class\n",
        "\n",
        "  predicted_class = predict_class(image_path)\n",
        "  print(f'The predicted class for the image is: {predicted_class}')\n",
        "\n",
        "else:\n",
        "  print(\"it is original image\")"
      ],
      "metadata": {
        "colab": {
          "base_uri": "https://localhost:8080/"
        },
        "id": "hNvKbCDwuQ8J",
        "outputId": "18e7f89c-8b03-49f2-ee3b-56a6555d580b"
      },
      "execution_count": null,
      "outputs": [
        {
          "output_type": "stream",
          "name": "stderr",
          "text": [
            "WARNING:tensorflow:5 out of the last 12 calls to <function Model.make_predict_function.<locals>.predict_function at 0x7f0ae8e81b40> triggered tf.function retracing. Tracing is expensive and the excessive number of tracings could be due to (1) creating @tf.function repeatedly in a loop, (2) passing tensors with different shapes, (3) passing Python objects instead of tensors. For (1), please define your @tf.function outside of the loop. For (2), @tf.function has reduce_retracing=True option that can avoid unnecessary retracing. For (3), please refer to https://www.tensorflow.org/guide/function#controlling_retracing and https://www.tensorflow.org/api_docs/python/tf/function for  more details.\n"
          ]
        },
        {
          "output_type": "stream",
          "name": "stdout",
          "text": [
            "1/1 [==============================] - 0s 197ms/step\n",
            "The predicted class for the image is: u10 forged sign\n"
          ]
        }
      ]
    }
  ]
}